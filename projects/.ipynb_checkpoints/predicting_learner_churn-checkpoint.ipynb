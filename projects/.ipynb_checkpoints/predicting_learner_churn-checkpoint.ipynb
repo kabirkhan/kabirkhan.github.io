{
 "cells": [
  {
   "cell_type": "markdown",
   "metadata": {},
   "source": [
    "Title: Predicting Learner Churn in MOOCs\n",
    "Slug: predicting_learner_churn   \n",
    "Summary: If you knew your learners were about to drop out of the awesome course you spent months working on, what would you do about it?    \n",
    "Date: 2018-02-27 12:00     \n",
    "Category: Projects    \n",
    "Tags: Deep Learning, Churn, MOOC, Predictive Maintenance    \n",
    "Authors: Kabir Khan, Software Engineer at Microsoft Worldwide Learning"
   ]
  },
  {
   "cell_type": "markdown",
   "metadata": {},
   "source": [
    "> **This model was trained on data from past runs of Microsoft edX courses that are part of the [Microsoft Professional Program](https://academy.microsoft.com)**"
   ]
  },
  {
   "cell_type": "markdown",
   "metadata": {},
   "source": [
    "> **If you're interested in the code for this project it's all available (for a limited time) on [Github](https://github.com/kabirkhan/edx_learner_attrition/tree/dev)**"
   ]
  },
  {
   "cell_type": "markdown",
   "metadata": {},
   "source": [
    "## **Context**"
   ]
  },
  {
   "cell_type": "markdown",
   "metadata": {},
   "source": [
    "On the Microsoft Worldwide Learning team we are constantly striving to provide a better experience and better content to our learners. That's why it's so important to us that learners are engaged and regularly working on and interacting with our course material. "
   ]
  },
  {
   "cell_type": "markdown",
   "metadata": {},
   "source": [
    "A few months ago, we started working on better understanding our learners' behavior, particularly around the tendency for learners to drop out and not complete courses. We decided we want to know when learners are struggling or trailing off and are likely to drop out of a course before they do.  "
   ]
  },
  {
   "cell_type": "markdown",
   "metadata": {},
   "source": [
    "We settled on knowing a week in advance. We figured with this much notice, we could contact learners and attempt to re-engage them in the course, provide struggling learners with extra resources and even recommending harder courses for learners that were completing content too quickly."
   ]
  },
  {
   "cell_type": "markdown",
   "metadata": {},
   "source": [
    "---"
   ]
  },
  {
   "cell_type": "markdown",
   "metadata": {},
   "source": [
    "Over the last few months, I've built a model to predict with up to 78% accuracy when learners in a course are likely to drop out a week before they do. This model was based on a few key features of learner activity, aggregated per week of each course."
   ]
  },
  {
   "cell_type": "markdown",
   "metadata": {},
   "source": [
    "### **Problem:**\n",
    "Can we predict a week in advance if a learner will drop out of a course\n",
    "\n",
    "### **Proposed solution:**\n",
    "Deep learning model trained on aggregated learner activity information"
   ]
  },
  {
   "cell_type": "markdown",
   "metadata": {},
   "source": [
    "## **Packages**"
   ]
  },
  {
   "cell_type": "code",
   "execution_count": 12,
   "metadata": {},
   "outputs": [],
   "source": [
    "import pandas as pd"
   ]
  },
  {
   "cell_type": "markdown",
   "metadata": {},
   "source": [
    "## **The data**"
   ]
  },
  {
   "cell_type": "markdown",
   "metadata": {},
   "source": [
    "All courses in the Microsoft Profressional Program are currently hosted on edX, a platform that does a great job collecting telemetry data on the browser and server, tied to specific learners."
   ]
  },
  {
   "cell_type": "markdown",
   "metadata": {},
   "source": [
    "Example of an event collected by edX. Note we particularly care about the \"event_type\"\n",
    "\n",
    "<img src=\"\"/>"
   ]
  },
  {
   "cell_type": "code",
   "execution_count": null,
   "metadata": {},
   "outputs": [],
   "source": []
  },
  {
   "cell_type": "markdown",
   "metadata": {},
   "source": [
    "edX cuts logs for all Microsoft courses and ships them to us where our awesome BI team injests them into our data warehouse. From there, I aggregated this learner activity information per-course per-week for each learner."
   ]
  },
  {
   "cell_type": "markdown",
   "metadata": {},
   "source": [
    "## **Data preprocessing**"
   ]
  },
  {
   "cell_type": "code",
   "execution_count": 11,
   "metadata": {},
   "outputs": [
    {
     "data": {
      "text/html": [
       "<div>\n",
       "<style scoped>\n",
       "    .dataframe tbody tr th:only-of-type {\n",
       "        vertical-align: middle;\n",
       "    }\n",
       "\n",
       "    .dataframe tbody tr th {\n",
       "        vertical-align: top;\n",
       "    }\n",
       "\n",
       "    .dataframe thead th {\n",
       "        text-align: right;\n",
       "    }\n",
       "</style>\n",
       "<table border=\"1\" class=\"dataframe\">\n",
       "  <thead>\n",
       "    <tr style=\"text-align: right;\">\n",
       "      <th></th>\n",
       "      <th>user_id</th>\n",
       "      <th>course_week</th>\n",
       "      <th>user_started_week</th>\n",
       "      <th>num_video_plays</th>\n",
       "      <th>num_subsections_viewed</th>\n",
       "      <th>num_problems_attempted</th>\n",
       "      <th>num_problems_correct</th>\n",
       "      <th>num_forum_posts</th>\n",
       "      <th>num_forum_up_votes</th>\n",
       "      <th>avg_forum_sentiment</th>\n",
       "    </tr>\n",
       "  </thead>\n",
       "  <tbody>\n",
       "    <tr>\n",
       "      <th>0</th>\n",
       "      <td>9999</td>\n",
       "      <td>4</td>\n",
       "      <td>3</td>\n",
       "      <td>12</td>\n",
       "      <td>23</td>\n",
       "      <td>8</td>\n",
       "      <td>5</td>\n",
       "      <td>1.0</td>\n",
       "      <td>3</td>\n",
       "      <td>0.72</td>\n",
       "    </tr>\n",
       "    <tr>\n",
       "      <th>1</th>\n",
       "      <td>100001</td>\n",
       "      <td>4</td>\n",
       "      <td>0</td>\n",
       "      <td>0</td>\n",
       "      <td>0</td>\n",
       "      <td>0</td>\n",
       "      <td>0</td>\n",
       "      <td>0.0</td>\n",
       "      <td>0</td>\n",
       "      <td>0.00</td>\n",
       "    </tr>\n",
       "  </tbody>\n",
       "</table>\n",
       "</div>"
      ],
      "text/plain": [
       "   user_id  course_week  user_started_week  num_video_plays  \\\n",
       "0     9999            4                  3               12   \n",
       "1   100001            4                  0                0   \n",
       "\n",
       "   num_subsections_viewed  num_problems_attempted  num_problems_correct  \\\n",
       "0                      23                       8                     5   \n",
       "1                       0                       0                     0   \n",
       "\n",
       "   num_forum_posts  num_forum_up_votes  avg_forum_sentiment  \n",
       "0              1.0                   3                 0.72  \n",
       "1              0.0                   0                 0.00  "
      ]
     },
     "execution_count": 11,
     "metadata": {},
     "output_type": "execute_result"
    }
   ],
   "source": [
    "features = pd.DataFrame([\n",
    "    {'user_id': 9999, 'course_week': 4, 'user_started_week': 3, \n",
    "     'num_video_plays': 12, 'num_subsections_viewed': 23, \n",
    "     'num_problems_attempted': 8, 'num_problems_correct': 5, \n",
    "     'num_forum_posts': 1., 'num_forum_up_votes': 3, \n",
    "     'avg_forum_sentiment': .72},\n",
    "    {'user_id': 100001, 'course_week': 4, 'user_started_week': 0, \n",
    "     'num_video_plays': 0, 'num_subsections_viewed': 0, \n",
    "     'num_problems_attempted': 0, 'num_problems_correct': 0, \n",
    "     'num_forum_posts': 0, 'num_forum_up_votes': 0, \n",
    "     'avg_forum_sentiment': 0},\n",
    "])\n",
    "\n",
    "features[[\n",
    "    'user_id', 'course_week', 'user_started_week', 'num_video_plays',\n",
    "    'num_subsections_viewed', 'num_problems_attempted', 'num_problems_correct',\n",
    "    'num_forum_posts', 'num_forum_up_votes', 'avg_forum_sentiment'\n",
    "]]"
   ]
  },
  {
   "cell_type": "code",
   "execution_count": null,
   "metadata": {},
   "outputs": [],
   "source": []
  }
 ],
 "metadata": {
  "kernelspec": {
   "display_name": "Python 3",
   "language": "python",
   "name": "python3"
  },
  "language_info": {
   "codemirror_mode": {
    "name": "ipython",
    "version": 3
   },
   "file_extension": ".py",
   "mimetype": "text/x-python",
   "name": "python",
   "nbconvert_exporter": "python",
   "pygments_lexer": "ipython3",
   "version": "3.5.3"
  }
 },
 "nbformat": 4,
 "nbformat_minor": 2
}
